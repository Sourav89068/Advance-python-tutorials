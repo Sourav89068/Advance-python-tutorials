{
 "cells": [
  {
   "cell_type": "code",
   "execution_count": 1,
   "id": "c47e2f7c-5dc9-4a7d-9161-c9339096dbec",
   "metadata": {
    "tags": []
   },
   "outputs": [],
   "source": [
    "import pandas as pd\n",
    "import math\n",
    "from typing import *\n"
   ]
  },
  {
   "cell_type": "markdown",
   "id": "c8661206-7c1b-4582-aed1-e329f2de4003",
   "metadata": {},
   "source": [
    "# Linear Congruential Generator (LCG) Algorithm\n",
    "The Linear Congruential Generator (LCG) is a simple algorithm used to generate a sequence of pseudo-random numbers. It is defined by the recurrence relation:\n",
    "\n",
    "$$X_{n+1}=(aX_n+c) \\ \\ \\ mod \\ \\ m$$\n",
    "\n",
    "Where:\n",
    "\n",
    "- $X_n$ is the current pseudo-random number in the sequence.\\\n",
    "- $X_{n+1}$ is the next pseudo-random number in the sequence.\\\n",
    "- a is the multiplier\n",
    "- c is the increment\n",
    "- m is the modulus"
   ]
  },
  {
   "cell_type": "code",
   "execution_count": 25,
   "id": "cf20c05f-b928-4630-8386-70a02f27a74b",
   "metadata": {
    "tags": []
   },
   "outputs": [],
   "source": [
    "class RandomNumber:\n",
    "    \"\"\"\n",
    "    This class implements a basic linear congruential generator (LCG), which is a simple algorithm\n",
    "    to generate pseudo-random numbers. The generated sequence of numbers depends on the initial seed\n",
    "    and the parameters `a`, `c`, and `m`.\n",
    "\n",
    "    Attributes:\n",
    "        seed (int): The initial seed value for the generator.\n",
    "        a (int): Multiplier parameter for the LCG algorithm.\n",
    "        c (int): Increment parameter for the LCG algorithm.\n",
    "        m (int): Modulus parameter for the LCG algorithm.\n",
    "\n",
    "    Methods:\n",
    "        generate(): Generate a pseudo-random number between 0 and 1 using the LCG algorithm.\n",
    "    \"\"\"\n",
    "\n",
    "    def __init__(self, seed, a, c, m):\n",
    "        \"\"\"\n",
    "        Initialize the RandomNumber object with the given parameters.\n",
    "\n",
    "        Args:\n",
    "            seed (int): The initial seed value for the generator.\n",
    "            a (int): Multiplier parameter for the LCG algorithm.\n",
    "            c (int): Increment parameter for the LCG algorithm.\n",
    "            m (int): Modulus parameter for the LCG algorithm.\n",
    "        \"\"\"\n",
    "        self.state = seed\n",
    "        self.a = a\n",
    "        self.c = c\n",
    "        self.m = m\n",
    "        \n",
    "    def generate(self):\n",
    "        \"\"\"\n",
    "        Generate a pseudo-random number between 0 and 1 using the LCG algorithm.\n",
    "\n",
    "        Returns:\n",
    "            float: A pseudo-random number between 0 and 1.\n",
    "        \"\"\"\n",
    "        self.state = (self.state * self.a + self.c) % self.m\n",
    "        return self.state / self.m\n",
    "\n",
    "    def uniform(self, n=1, low=0, high=1):\n",
    "        \"\"\"\n",
    "        Generate a list of pseudo-random numbers between `low` and `high` using the LCG algorithm.\n",
    "\n",
    "        Args:\n",
    "            n (int): The number of random numbers to generate.\n",
    "            low (float): The lower bound of the range (inclusive).\n",
    "            high (float): The upper bound of the range (exclusive).\n",
    "\n",
    "        Returns:\n",
    "            list: A list of pseudo-random numbers between `low` and `high`.\n",
    "        \"\"\"\n",
    "        if n==1:\n",
    "            rn=low+(high-low)*self.generate()\n",
    "            return rn\n",
    "        else:\n",
    "            random_numbers = []\n",
    "            for _ in range(n):\n",
    "                random_numbers.append(low + (high - low) * self.generate())\n",
    "            return random_numbers\n",
    "    "
   ]
  },
  {
   "cell_type": "markdown",
   "id": "895244e2-a1d8-4547-873b-1f571c495938",
   "metadata": {},
   "source": [
    "# Box-Muller transform\n",
    "The Box-Muller transform is a method for generating pairs of independent, standard normally distributed (i.e., with mean 0 and standard deviation 1) random numbers from uniformly distributed random numbers. \n",
    "\n",
    "The transform is based on the polar form of the Box-Muller transformation, which uses the fact that if $U_1$ and $U_2$ are independent random variables uniformly distributed in the interval $[0,1)$, then the following transformation yields two independent random variables $Z_1$ and $Z_2$ that are standard normally distributed:\n",
    "\n",
    "$$Z_1=\\sqrt{-2ln(U_1)}cos(2 \\pi U_2)$$\n",
    "$$Z_2=\\sqrt{-2ln(U_1)}sin(2 \\pi U_2)$$\n",
    "\n",
    "This is particularly valuable since many random number generators provide uniform distributions directly, but not necessarily normal distributions."
   ]
  },
  {
   "cell_type": "code",
   "execution_count": 50,
   "id": "d1a83608-ef04-4300-a60d-79772a0a572f",
   "metadata": {
    "tags": []
   },
   "outputs": [],
   "source": [
    "class RandomNumber:\n",
    "    \"\"\"\n",
    "    This class implements a basic linear congruential generator (LCG), which is a simple algorithm\n",
    "    to generate pseudo-random numbers. The generated sequence of numbers depends on the initial seed\n",
    "    and the parameters `a`, `c`, and `m`.\n",
    "\n",
    "    Attributes:\n",
    "        seed (int): The initial seed value for the generator.\n",
    "        a (int): Multiplier parameter for the LCG algorithm.\n",
    "        c (int): Increment parameter for the LCG algorithm.\n",
    "        m (int): Modulus parameter for the LCG algorithm.\n",
    "\n",
    "    Methods:\n",
    "        generate(): Generate a pseudo-random number between 0 and 1 using the LCG algorithm.\n",
    "    \"\"\"\n",
    "\n",
    "    def __init__(self, seed, a, c, m):\n",
    "        \"\"\"\n",
    "        Initialize the RandomNumber object with the given parameters.\n",
    "\n",
    "        Args:\n",
    "            seed (int): The initial seed value for the generator.\n",
    "            a (int): Multiplier parameter for the LCG algorithm.\n",
    "            c (int): Increment parameter for the LCG algorithm.\n",
    "            m (int): Modulus parameter for the LCG algorithm.\n",
    "        \"\"\"\n",
    "        self.state = seed\n",
    "        self.a = a\n",
    "        self.c = c\n",
    "        self.m = m\n",
    "        \n",
    "    def generate(self):\n",
    "        \"\"\"\n",
    "        Generate a pseudo-random number between 0 and 1 using the LCG algorithm.\n",
    "\n",
    "        Returns:\n",
    "            float: A pseudo-random number between 0 and 1.\n",
    "        \"\"\"\n",
    "        self.state = (self.state * self.a + self.c) % self.m\n",
    "        return self.state / self.m\n",
    "\n",
    "    def uniform(self, n=1, low=0, high=1):\n",
    "        \"\"\"\n",
    "        Generate a list of pseudo-random numbers between `low` and `high` using the LCG algorithm.\n",
    "\n",
    "        Args:\n",
    "            n (int): The number of random numbers to generate.\n",
    "            low (float): The lower bound of the range (inclusive).\n",
    "            high (float): The upper bound of the range (exclusive).\n",
    "\n",
    "        Returns:\n",
    "            list: A list of pseudo-random numbers between `low` and `high`.\n",
    "        \"\"\"\n",
    "        random_numbers = []\n",
    "        for _ in range(n):\n",
    "            rn=low+(high-low)*self.generate()\n",
    "            random_numbers.append(rn)\n",
    "        if n==1:\n",
    "            return random_numbers[0]\n",
    "        else:\n",
    "            return random_numbers\n",
    "    \n",
    "    def normal(self,n=1,mean=0, std=1):\n",
    "        # Generate two random numbers from a uniform distribution\n",
    "        random_numbers=[]\n",
    "        for _ in range(n):\n",
    "            U1 = self.uniform()\n",
    "            U2 = self.uniform()\n",
    "\n",
    "            # Box-Muller transform\n",
    "            Z1 = math.sqrt(-2 * math.log(U1)) * math.cos(2 * math.pi * U2)\n",
    "            # Z2 = math.sqrt(-2 * math.log(U1)) * math.sin(2 * math.pi * U2)\n",
    "\n",
    "            # Apply mean and standard deviation\n",
    "            X1 = mean + Z1 * std\n",
    "            # X2 = mean + Z2 * std\n",
    "            random_numbers.append(X1)\n",
    "            \n",
    "        if n==1:\n",
    "            random_numbers[0]\n",
    "        else:\n",
    "            return random_numbers"
   ]
  },
  {
   "cell_type": "code",
   "execution_count": null,
   "id": "53054a65-3f8d-48db-86ef-0afac020fd5a",
   "metadata": {},
   "outputs": [],
   "source": []
  },
  {
   "cell_type": "code",
   "execution_count": 51,
   "id": "f276ce8a-de53-45eb-83bc-6e1a3d7865bd",
   "metadata": {
    "tags": []
   },
   "outputs": [],
   "source": [
    "seed = 1234\n",
    "a = 1103515245\n",
    "c = 12345\n",
    "\n",
    "m = 2**31\n",
    "rng = RandomNumber(seed, a, c, m)"
   ]
  },
  {
   "cell_type": "code",
   "execution_count": 52,
   "id": "da944362-f072-4476-a507-7b6e0e2b0e3d",
   "metadata": {},
   "outputs": [
    {
     "ename": "NameError",
     "evalue": "name 'math' is not defined",
     "output_type": "error",
     "traceback": [
      "\u001b[0;31m---------------------------------------------------------------------------\u001b[0m",
      "\u001b[0;31mNameError\u001b[0m                                 Traceback (most recent call last)",
      "\u001b[0;32m/tmp/ipykernel_133953/1067294433.py\u001b[0m in \u001b[0;36m<module>\u001b[0;34m\u001b[0m\n\u001b[0;32m----> 1\u001b[0;31m \u001b[0mplt\u001b[0m\u001b[0;34m.\u001b[0m\u001b[0mhist\u001b[0m\u001b[0;34m(\u001b[0m\u001b[0mrng\u001b[0m\u001b[0;34m.\u001b[0m\u001b[0mnormal\u001b[0m\u001b[0;34m(\u001b[0m\u001b[0mn\u001b[0m\u001b[0;34m=\u001b[0m\u001b[0;36m1000\u001b[0m\u001b[0;34m)\u001b[0m\u001b[0;34m)\u001b[0m\u001b[0;34m\u001b[0m\u001b[0;34m\u001b[0m\u001b[0m\n\u001b[0m",
      "\u001b[0;32m/tmp/ipykernel_133953/3952337448.py\u001b[0m in \u001b[0;36mnormal\u001b[0;34m(self, n, mean, std)\u001b[0m\n\u001b[1;32m     69\u001b[0m \u001b[0;34m\u001b[0m\u001b[0m\n\u001b[1;32m     70\u001b[0m             \u001b[0;31m# Box-Muller transform\u001b[0m\u001b[0;34m\u001b[0m\u001b[0;34m\u001b[0m\u001b[0m\n\u001b[0;32m---> 71\u001b[0;31m             \u001b[0mZ1\u001b[0m \u001b[0;34m=\u001b[0m \u001b[0mmath\u001b[0m\u001b[0;34m.\u001b[0m\u001b[0msqrt\u001b[0m\u001b[0;34m(\u001b[0m\u001b[0;34m-\u001b[0m\u001b[0;36m2\u001b[0m \u001b[0;34m*\u001b[0m \u001b[0mmath\u001b[0m\u001b[0;34m.\u001b[0m\u001b[0mlog\u001b[0m\u001b[0;34m(\u001b[0m\u001b[0mU1\u001b[0m\u001b[0;34m)\u001b[0m\u001b[0;34m)\u001b[0m \u001b[0;34m*\u001b[0m \u001b[0mmath\u001b[0m\u001b[0;34m.\u001b[0m\u001b[0mcos\u001b[0m\u001b[0;34m(\u001b[0m\u001b[0;36m2\u001b[0m \u001b[0;34m*\u001b[0m \u001b[0mmath\u001b[0m\u001b[0;34m.\u001b[0m\u001b[0mpi\u001b[0m \u001b[0;34m*\u001b[0m \u001b[0mU2\u001b[0m\u001b[0;34m)\u001b[0m\u001b[0;34m\u001b[0m\u001b[0;34m\u001b[0m\u001b[0m\n\u001b[0m\u001b[1;32m     72\u001b[0m             \u001b[0;31m# Z2 = math.sqrt(-2 * math.log(U1)) * math.sin(2 * math.pi * U2)\u001b[0m\u001b[0;34m\u001b[0m\u001b[0;34m\u001b[0m\u001b[0m\n\u001b[1;32m     73\u001b[0m \u001b[0;34m\u001b[0m\u001b[0m\n",
      "\u001b[0;31mNameError\u001b[0m: name 'math' is not defined"
     ]
    }
   ],
   "source": [
    "plt.hist(rng.normal(n=1000))"
   ]
  },
  {
   "cell_type": "code",
   "execution_count": null,
   "id": "384c45bf-765a-4fc4-a58e-601e3a41b666",
   "metadata": {},
   "outputs": [
    {
     "name": "stdout",
     "output_type": "stream",
     "text": [
      "Random number from uniform distribution: 117.50252966303378\n"
     ]
    }
   ],
   "source": [
    "def pick_from_uniform(rng, lower_bound, upper_bound):\n",
    "    if lower_bound >= upper_bound:\n",
    "        raise ValueError(\"Lower bound must be less than upper bound\")\n",
    "\n",
    "    # Generate a number between 0 and 1\n",
    "    random_number = rng.generate()\n",
    "    \n",
    "    # Scale the number to fit the desired range\n",
    "    scaled_number = random_number * (upper_bound - lower_bound) + lower_bound\n",
    "    \n",
    "    return scaled_number"
   ]
  },
  {
   "cell_type": "code",
   "execution_count": null,
   "id": "66f6b59d-1413-4d14-a316-1bd73fcb17d3",
   "metadata": {},
   "outputs": [],
   "source": [
    "# Example usage:\n",
    "\n",
    "\n",
    "# Pick a number from uniform distribution between 10 and 20\n",
    "random_uniform_number = pick_from_uniform(rng, 10, 1000)\n",
    "print(\"Random number from uniform distribution:\", random_uniform_number)"
   ]
  },
  {
   "cell_type": "code",
   "execution_count": null,
   "id": "b324dd40-187d-47da-8d58-4968d3cc3609",
   "metadata": {},
   "outputs": [],
   "source": [
    "l=[]\n",
    "for i in range(100000):\n",
    "    random_uniform_number=pick_from_uniform(rng,10,1000)\n",
    "    l.append(random_uniform_number)"
   ]
  },
  {
   "cell_type": "code",
   "execution_count": null,
   "id": "b42c2efd-43b7-4283-824b-5b90a240ab15",
   "metadata": {},
   "outputs": [],
   "source": []
  }
 ],
 "metadata": {
  "kernelspec": {
   "display_name": "Python 3 (ipykernel)",
   "language": "python",
   "name": "python3"
  },
  "language_info": {
   "codemirror_mode": {
    "name": "ipython",
    "version": 3
   },
   "file_extension": ".py",
   "mimetype": "text/x-python",
   "name": "python",
   "nbconvert_exporter": "python",
   "pygments_lexer": "ipython3",
   "version": "3.9.13"
  }
 },
 "nbformat": 4,
 "nbformat_minor": 5
}
