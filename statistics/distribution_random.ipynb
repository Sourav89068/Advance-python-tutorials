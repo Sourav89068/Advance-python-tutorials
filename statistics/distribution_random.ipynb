{
 "cells": [
  {
   "cell_type": "code",
   "execution_count": 2,
   "id": "c47e2f7c-5dc9-4a7d-9161-c9339096dbec",
   "metadata": {
    "tags": []
   },
   "outputs": [],
   "source": [
    "import pandas as pd\n",
    "import math\n",
    "import matplotlib.pyplot as plt\n",
    "from typing import *"
   ]
  },
  {
   "cell_type": "markdown",
   "id": "c8661206-7c1b-4582-aed1-e329f2de4003",
   "metadata": {},
   "source": [
    "# Linear Congruential Generator (LCG) Algorithm\n",
    "The Linear Congruential Generator (LCG) is a simple algorithm used to generate a sequence of pseudo-random numbers. It is defined by the recurrence relation:\n",
    "\n",
    "$$X_{n+1}=(aX_n+c) \\ \\ \\ mod \\ \\ m$$\n",
    "\n",
    "Where:\n",
    "\n",
    "- $X_n$ is the current pseudo-random number in the sequence.\\\n",
    "- $X_{n+1}$ is the next pseudo-random number in the sequence.\\\n",
    "- a is the multiplier\n",
    "- c is the increment\n",
    "- m is the modulus"
   ]
  },
  {
   "cell_type": "code",
   "execution_count": 20,
   "id": "cf20c05f-b928-4630-8386-70a02f27a74b",
   "metadata": {
    "tags": []
   },
   "outputs": [],
   "source": [
    "class RandomNumber:\n",
    "    \"\"\"\n",
    "    This class implements a basic linear congruential generator (LCG), which is a simple algorithm\n",
    "    to generate pseudo-random numbers. The generated sequence of numbers depends on the initial seed\n",
    "    and the parameters `a`, `c`, and `m`.\n",
    "\n",
    "    Attributes:\n",
    "        seed (int): The initial seed value for the generator.\n",
    "        a (int): Multiplier parameter for the LCG algorithm.\n",
    "        c (int): Increment parameter for the LCG algorithm.\n",
    "        m (int): Modulus parameter for the LCG algorithm.\n",
    "\n",
    "    Methods:\n",
    "        generate(): Generate a pseudo-random number between 0 and 1 using the LCG algorithm.\n",
    "    \"\"\"\n",
    "\n",
    "    def __init__(self, seed, a, c, m):\n",
    "        \"\"\"\n",
    "        Initialize the RandomNumber object with the given parameters.\n",
    "\n",
    "        Args:\n",
    "            seed (int): The initial seed value for the generator.\n",
    "            a (int): Multiplier parameter for the LCG algorithm.\n",
    "            c (int): Increment parameter for the LCG algorithm.\n",
    "            m (int): Modulus parameter for the LCG algorithm.\n",
    "        \"\"\"\n",
    "        self.state = seed\n",
    "        self.a = a\n",
    "        self.c = c\n",
    "        self.m = m\n",
    "        \n",
    "    def generate(self):\n",
    "        \"\"\"\n",
    "        Generate a pseudo-random number between 0 and 1 using the LCG algorithm.\n",
    "\n",
    "        Returns:\n",
    "            float: A pseudo-random number between 0 and 1.\n",
    "        \"\"\"\n",
    "        self.state = (self.state * self.a + self.c) % self.m\n",
    "        return self.state / self.m\n",
    "\n",
    "    def uniform(self, n=1, low=0, high=1):\n",
    "        \"\"\"\n",
    "        Generate a list of pseudo-random numbers between `low` and `high` using the LCG algorithm.\n",
    "\n",
    "        Args:\n",
    "            n (int): The number of random numbers to generate.\n",
    "            low (float): The lower bound of the range (inclusive).\n",
    "            high (float): The upper bound of the range (exclusive).\n",
    "\n",
    "        Returns:\n",
    "            list: A list of pseudo-random numbers between `low` and `high`.\n",
    "        \"\"\"\n",
    "        if n==1:\n",
    "            rn=low+(high-low)*self.generate()\n",
    "            return rn\n",
    "        else:\n",
    "            random_numbers = []\n",
    "            for _ in range(n):\n",
    "                random_numbers.append(low + (high - low) * self.generate())\n",
    "            return random_numbers\n",
    "    "
   ]
  },
  {
   "cell_type": "markdown",
   "id": "895244e2-a1d8-4547-873b-1f571c495938",
   "metadata": {},
   "source": [
    "# Box-Muller transform\n",
    "The Box-Muller transform is a method for generating pairs of independent, standard normally distributed (i.e., with mean 0 and standard deviation 1) random numbers from uniformly distributed random numbers. \n",
    "\n",
    "The transform is based on the polar form of the Box-Muller transformation, which uses the fact that if $U_1$ and $U_2$ are independent random variables uniformly distributed in the interval $[0,1)$, then the following transformation yields two independent random variables $Z_1$ and $Z_2$ that are standard normally distributed:\n",
    "\n",
    "$$Z_1=\\sqrt{-2ln(U_1)}cos(2 \\pi U_2)$$\n",
    "$$Z_2=\\sqrt{-2ln(U_1)}sin(2 \\pi U_2)$$\n",
    "\n",
    "This is particularly valuable since many random number generators provide uniform distributions directly, but not necessarily normal distributions."
   ]
  },
  {
   "cell_type": "code",
   "execution_count": 25,
   "id": "d1a83608-ef04-4300-a60d-79772a0a572f",
   "metadata": {
    "tags": []
   },
   "outputs": [],
   "source": [
    "class RandomNumber:\n",
    "    \"\"\"\n",
    "    This class implements a basic linear congruential generator (LCG), which is a simple algorithm\n",
    "    to generate pseudo-random numbers. The generated sequence of numbers depends on the initial seed\n",
    "    and the parameters `a`, `c`, and `m`.\n",
    "\n",
    "    Attributes:\n",
    "        seed (int): The initial seed value for the generator.\n",
    "        a (int): Multiplier parameter for the LCG algorithm.\n",
    "        c (int): Increment parameter for the LCG algorithm.\n",
    "        m (int): Modulus parameter for the LCG algorithm.\n",
    "\n",
    "    Methods:\n",
    "        generate(): Generate a pseudo-random number between 0 and 1 using the LCG algorithm.\n",
    "    \"\"\"\n",
    "\n",
    "    def __init__(self, seed, a=1103515245, c=12345, m=2**31):\n",
    "        \"\"\"\n",
    "        Initialize the RandomNumber object with the given parameters.\n",
    "\n",
    "        Args:\n",
    "            seed (int): The initial seed value for the generator.\n",
    "            a (int): Multiplier parameter for the LCG algorithm.\n",
    "            c (int): Increment parameter for the LCG algorithm.\n",
    "            m (int): Modulus parameter for the LCG algorithm.\n",
    "        \"\"\"\n",
    "        self.state = seed\n",
    "        self.a = a\n",
    "        self.c = c\n",
    "        self.m = m\n",
    "        \n",
    "    \n",
    "    def generate(self):\n",
    "        \"\"\"\n",
    "        Generate a pseudo-random number between 0 and 1 using the LCG algorithm.\n",
    "\n",
    "        Returns:\n",
    "            float: A pseudo-random number between 0 and 1.\n",
    "        \"\"\"\n",
    "        self.state = (self.state * self.a + self.c) % self.m\n",
    "        return self.state / self.m\n",
    "\n",
    "    def uniform(self,low=0, high=1,n=1):\n",
    "        \"\"\"\n",
    "        Generate a list of pseudo-random numbers between `low` and `high` using the LCG algorithm.\n",
    "\n",
    "        Args:\n",
    "            n (int): The number of random numbers to generate.\n",
    "            low (float): The lower bound of the range (inclusive).\n",
    "            high (float): The upper bound of the range (exclusive).\n",
    "\n",
    "        Returns:\n",
    "            list: A list of pseudo-random numbers between `low` and `high`.\n",
    "        \"\"\"\n",
    "        random_numbers = []\n",
    "        for _ in range(n):\n",
    "            rn=low+(high-low)*self.generate()\n",
    "            random_numbers.append(rn)\n",
    "        if n==1:\n",
    "            return random_numbers[0]\n",
    "        else:\n",
    "            return random_numbers\n",
    "    \n",
    "    def normal(self,mean=0, std=1,n=1):\n",
    "        # Generate two random numbers from a uniform distribution\n",
    "        random_numbers=[]\n",
    "        for _ in range(n):\n",
    "            U1 = self.uniform()\n",
    "            U2 = self.uniform()\n",
    "\n",
    "            # Box-Muller transform\n",
    "            Z1 = math.sqrt(-2 * math.log(U1)) * math.cos(2 * math.pi * U2)\n",
    "            # Z2 = math.sqrt(-2 * math.log(U1)) * math.sin(2 * math.pi * U2)\n",
    "\n",
    "            # Apply mean and standard deviation\n",
    "            X1 = mean + Z1 * std\n",
    "            # X2 = mean + Z2 * std\n",
    "            random_numbers.append(X1)\n",
    "            # random_numbers.append(X2)\n",
    "            \n",
    "        if n==1:\n",
    "            random_numbers[0]\n",
    "        else:\n",
    "            return random_numbers\n",
    "    \n",
    "    def poisson(self,lam,n=1):\n",
    "        \"\"\"\n",
    "        Generate pseudo-random numbers from a Poisson distribution using the inverse transform sampling method.\n",
    "\n",
    "        Args:\n",
    "            lam (float): The lambda parameter of the Poisson distribution.\n",
    "            n (int): The number of random numbers to generate.\n",
    "\n",
    "        Returns:\n",
    "            list: A list of pseudo-random numbers from a Poisson distribution.\n",
    "        \"\"\"\n",
    "        def poisson_random(lam):\n",
    "            # u = self.generate()\n",
    "            u= self.uniform()\n",
    "            k = 0\n",
    "            p = np.exp(-lam)\n",
    "            F = p\n",
    "\n",
    "            while u > F:\n",
    "                k += 1\n",
    "                p *= lam / k\n",
    "                F += p\n",
    "\n",
    "            return k\n",
    "        l=[]\n",
    "        for i in range(n):\n",
    "            l.append(poisson_random(lam))\n",
    "        if n==1:\n",
    "            return l[0]\n",
    "        else:\n",
    "            return l"
   ]
  },
  {
   "cell_type": "markdown",
   "id": "578cdf10-bd09-483c-8571-209c54c951c6",
   "metadata": {},
   "source": [
    "# The Poisson Distribution with Inverse CDF\n",
    "\n",
    "The Poisson distribution is a discrete probability distribution that expresses the probability of a given number of events occurring in a fixed interval of time or space. It is characterized by a single parameter $\\lambda$, which represents the average rate of occurrences in that interval.\n",
    "\n",
    "\n",
    "\n",
    "The Poisson distribution with parameter λ has the probability mass function(PMF):\n",
    "\n",
    "$P(k;\\lambda) = \\frac{e^{-\\lambda}\\lambda^k}{k!}$\n",
    "\n",
    "where:\n",
    "- k is a non-negative integer representing the number of events occurring in the interval.\n",
    "\n",
    "- $\\lambda$ is the average rate of occurances."
   ]
  },
  {
   "cell_type": "markdown",
   "id": "351bfa90-f8d7-472d-a427-7f67edb7904a",
   "metadata": {},
   "source": [
    "# Inverse Transform Sampling Method:\n",
    "Inverse Transform Sampling relies on the inversion of the cumulative distribution function (CDF). This means that if we have the CDF of a probability distribution, we can find its inverse, which allows us to generate random numbers by plugging uniformly distributed random numbers into the inverse CDF.\n",
    "\n",
    "For the Poisson distribution, the cumulative distribution function (CDF) is defined as:\n",
    "\n",
    "$F(k;\\lambda) = \\sum_{i=0}^k \\frac{e^{-\\lambda}\\lambda^i}{i!}$\n",
    "\n",
    "The CDF $F(k;\\lambda)$ represents the probability that a Poisson-distributed random variable is less than or equal to k. As we increase k, the probability accumulates, starting from 0 and approaching 1.\n",
    "\n",
    "\n",
    "## Algorithm to generate random numbers from uniform distribution.\n",
    "- Generate a uniform random number u between 0 and 1.\n",
    "- Find the smallest integer k such that $F(k;\\lambda)\\geq u$ will be our Poisson-distributed random variable.\n",
    "\n",
    "What is $\\textbf{u}$?\n",
    "\n",
    "The uniform random number u selects a random point on the vertical axis of the CDF curve. This point represents a probability value between 0 and 1.\n",
    "\n",
    "Why to find a smallest k?\n",
    "\n",
    "We iteratively increase k until the condition $F(k;\\lambda)\\geq u$ is met. This ensures that we select the smallest k for which the cumulative probability exceeds or equals the selected probability u."
   ]
  },
  {
   "cell_type": "code",
   "execution_count": 31,
   "id": "d046ac15-46ea-4636-88bc-bbcb7b7f3d70",
   "metadata": {
    "tags": []
   },
   "outputs": [],
   "source": [
    "import math\n",
    "import numpy as np\n",
    "\n",
    "class RandomNumber:\n",
    "    \"\"\"\n",
    "    This class implements a basic linear congruential generator (LCG), which is a simple algorithm\n",
    "    to generate pseudo-random numbers. The generated sequence of numbers depends on the initial seed\n",
    "    and the parameters `a`, `c`, and `m`.\n",
    "\n",
    "    Attributes:\n",
    "        seed (int): The initial seed value for the generator.\n",
    "        a (int): Multiplier parameter for the LCG algorithm.\n",
    "        c (int): Increment parameter for the LCG algorithm.\n",
    "        m (int): Modulus parameter for the LCG algorithm.\n",
    "\n",
    "    Methods:\n",
    "        generate(): Generate a pseudo-random number between 0 and 1 using the LCG algorithm.\n",
    "        uniform(low=0, high=1, n=1): Generate pseudo-random numbers from a uniform distribution.\n",
    "        normal(mean=0, std=1, n=1): Generate pseudo-random numbers from a normal distribution.\n",
    "        poisson(lam, n=1): Generate pseudo-random numbers from a Poisson distribution.\n",
    "        geometric(p): Generate pseudo-random numbers from a geometric distribution.\n",
    "    \"\"\"\n",
    "\n",
    "    def __init__(self, seed, a=1103515245, c=12345, m=2**31):\n",
    "        \"\"\"\n",
    "        Initialize the RandomNumber object with the given parameters.\n",
    "\n",
    "        Args:\n",
    "            seed (int): The initial seed value for the generator.\n",
    "            a (int): Multiplier parameter for the LCG algorithm.\n",
    "            c (int): Increment parameter for the LCG algorithm.\n",
    "            m (int): Modulus parameter for the LCG algorithm.\n",
    "        \"\"\"\n",
    "        self.state = seed\n",
    "        self.a = a\n",
    "        self.c = c\n",
    "        self.m = m\n",
    "        \n",
    "    \n",
    "    def generate(self):\n",
    "        \"\"\"\n",
    "        Generate a pseudo-random number between 0 and 1 using the LCG algorithm.\n",
    "\n",
    "        Returns:\n",
    "            float: A pseudo-random number between 0 and 1.\n",
    "        \"\"\"\n",
    "        self.state = (self.state * self.a + self.c) % self.m\n",
    "        return self.state / self.m\n",
    "\n",
    "    def uniform(self, low=0, high=1, n=1):\n",
    "        \"\"\"\n",
    "        Generate a list of pseudo-random numbers between `low` and `high` using the LCG algorithm.\n",
    "\n",
    "        Args:\n",
    "            n (int): The number of random numbers to generate.\n",
    "            low (float): The lower bound of the range (inclusive).\n",
    "            high (float): The upper bound of the range (exclusive).\n",
    "\n",
    "        Returns:\n",
    "            list: A list of pseudo-random numbers between `low` and `high`.\n",
    "        \"\"\"\n",
    "        random_numbers = []\n",
    "        for _ in range(n):\n",
    "            rn = low + (high - low) * self.generate()\n",
    "            random_numbers.append(rn)\n",
    "        if n == 1:\n",
    "            return random_numbers[0]\n",
    "        else:\n",
    "            return random_numbers\n",
    "    \n",
    "    def geometric(self, p, n=1):\n",
    "        \"\"\"\n",
    "        Generate pseudo-random numbers from a geometric distribution using the inverse transform sampling method.\n",
    "\n",
    "        Args:\n",
    "            p (float): The probability of success.\n",
    "            n (int): The number of random numbers to generate.\n",
    "\n",
    "        Returns:\n",
    "            list: A list of pseudo-random numbers from a geometric distribution.\n",
    "        \"\"\"\n",
    "        def geometric_random(p):\n",
    "            u = self.generate()\n",
    "            return math.ceil(math.log(1 - u) / math.log(1 - p))\n",
    "        \n",
    "        random_numbers = []\n",
    "        for _ in range(n):\n",
    "            random_numbers.append(geometric_random(p))\n",
    "        \n",
    "        if n == 1:\n",
    "            return random_numbers[0]\n",
    "        else:\n",
    "            return random_numbers"
   ]
  },
  {
   "cell_type": "markdown",
   "id": "b25b3b1d-1852-4827-a47a-2bb62a66a17c",
   "metadata": {},
   "source": [
    "# Geometric Distribution\n",
    "In probability theory, the geometric distribution models the number of trials needed until the first success in a sequence of independent Bernoulli trials.\n",
    "\n",
    "The probability mass function (PMF) of the geometric distribution is given by:\n",
    "$P(X=k) = (1-p)^{k-1} * p$\n",
    "\n",
    "where p is the probability of success on each trial, and k=1,2,3,... represents the number of trials until the first success.\n",
    "\n",
    "## Inverse Transform Sampling on Geometric Distribution:\n",
    "\n",
    "- Inverse Transform sampling is a method used to generate random numbers from a given probability distribution by transforming uniform random variables.\n",
    "- The cumulative distribution function(CDF) of the geometric distribution is:\n",
    "$F(x) = 1 - (1-p)^x$\n",
    "where x is the number of trials until the first success.\n",
    "\n",
    "To generate a random variable from the geometric distribution using inverse transform sampling, we first generate a uniform random variable U between 0 and 1, and then solve for x such that:\n",
    "\n",
    "$U=F(x)=1-(1-p)^x$\n",
    "Solving for x, we get:\n",
    "$x=\\frac{log(1-U)}{log(1-p)}$\n",
    "\n",
    "where U is a uniform random variable."
   ]
  },
  {
   "cell_type": "code",
   "execution_count": null,
   "id": "65ecaa30-1794-47de-a76b-17a4443e461d",
   "metadata": {},
   "outputs": [],
   "source": []
  },
  {
   "cell_type": "code",
   "execution_count": null,
   "id": "30bcca65-ecaa-467f-8971-ab8f0c3f2a0d",
   "metadata": {},
   "outputs": [],
   "source": []
  },
  {
   "cell_type": "code",
   "execution_count": null,
   "id": "f991fbf7-2604-4261-b5fb-bfb3d2c08244",
   "metadata": {},
   "outputs": [],
   "source": []
  },
  {
   "cell_type": "code",
   "execution_count": null,
   "id": "da538487-8579-4625-b7e6-61645ca15712",
   "metadata": {},
   "outputs": [],
   "source": []
  },
  {
   "cell_type": "code",
   "execution_count": null,
   "id": "eb56dcef-4b08-496c-b465-d351680eb887",
   "metadata": {},
   "outputs": [],
   "source": []
  },
  {
   "cell_type": "code",
   "execution_count": null,
   "id": "a95c85ed-3168-41d4-a399-788a74441b57",
   "metadata": {},
   "outputs": [],
   "source": []
  },
  {
   "cell_type": "code",
   "execution_count": null,
   "id": "6cccaeaa-fcc8-45b7-95ab-8cc1a8b92c5f",
   "metadata": {},
   "outputs": [],
   "source": []
  },
  {
   "cell_type": "code",
   "execution_count": null,
   "id": "27309614-b116-44f9-91c6-2d796ae61411",
   "metadata": {},
   "outputs": [],
   "source": []
  },
  {
   "cell_type": "code",
   "execution_count": null,
   "id": "e4cdb444-f5c1-4f04-8ef9-ebdc9cc78da6",
   "metadata": {},
   "outputs": [],
   "source": []
  },
  {
   "cell_type": "code",
   "execution_count": null,
   "id": "fbacad08-8174-446a-b600-70c8cbcc7fea",
   "metadata": {},
   "outputs": [],
   "source": []
  },
  {
   "cell_type": "code",
   "execution_count": null,
   "id": "5958d1be-752f-4bcc-b405-ff824b22f27e",
   "metadata": {},
   "outputs": [],
   "source": []
  },
  {
   "cell_type": "code",
   "execution_count": 43,
   "id": "4676effc-e2ef-4f93-be7b-a058fd5b1aed",
   "metadata": {
    "tags": []
   },
   "outputs": [
    {
     "name": "stdout",
     "output_type": "stream",
     "text": [
      "Geometric Random Number: 1\n",
      "Geometric Random Numbers: [1, 2, 3, 1, 4, 3, 2, 4, 3, 7]\n"
     ]
    }
   ],
   "source": [
    "\n",
    "# Example usage:\n",
    "# Initialize the random number generator\n",
    "rng = RandomNumber(seed=43)\n",
    "\n",
    "# Generate a random number from a geometric distribution with p=0.3\n",
    "geo_number = rng.geometric(p=0.2)\n",
    "print(\"Geometric Random Number:\", geo_number)\n",
    "\n",
    "# Generate a list of 5 random numbers from a geometric distribution with p=0.3\n",
    "geo_numbers = rng.geometric(p=0.3, n=10)\n",
    "print(\"Geometric Random Numbers:\", geo_numbers)"
   ]
  },
  {
   "cell_type": "code",
   "execution_count": 64,
   "id": "684f0607-8ae7-465d-8575-27681d28b6c3",
   "metadata": {
    "tags": []
   },
   "outputs": [
    {
     "data": {
      "text/plain": [
       "[5, 16, 7, 10, 6, 12, 38, 6, 2, 6]"
      ]
     },
     "execution_count": 64,
     "metadata": {},
     "output_type": "execute_result"
    }
   ],
   "source": [
    "rng.geometric(p=0.1,n=10)"
   ]
  },
  {
   "cell_type": "code",
   "execution_count": null,
   "id": "cf4a5bd6-46b3-4530-bb85-e4c3a97df8aa",
   "metadata": {},
   "outputs": [],
   "source": []
  },
  {
   "cell_type": "code",
   "execution_count": null,
   "id": "074223f2-7402-44b6-be50-e82c666cd7a7",
   "metadata": {},
   "outputs": [],
   "source": []
  },
  {
   "cell_type": "code",
   "execution_count": null,
   "id": "4e96c64e-6180-4554-b099-0db2f05ce38c",
   "metadata": {},
   "outputs": [],
   "source": []
  },
  {
   "cell_type": "code",
   "execution_count": null,
   "id": "d4551c81-001a-466f-a086-7b9540c2168f",
   "metadata": {},
   "outputs": [],
   "source": []
  },
  {
   "cell_type": "code",
   "execution_count": 26,
   "id": "f276ce8a-de53-45eb-83bc-6e1a3d7865bd",
   "metadata": {
    "tags": []
   },
   "outputs": [],
   "source": [
    "rng = RandomNumber(seed=1234)"
   ]
  },
  {
   "cell_type": "code",
   "execution_count": null,
   "id": "be8638aa-ffb4-4cf8-ac4f-101d7fa49dda",
   "metadata": {},
   "outputs": [],
   "source": []
  },
  {
   "cell_type": "code",
   "execution_count": null,
   "id": "ad5fcf8d-10ef-4b7f-842d-66e70924198b",
   "metadata": {},
   "outputs": [],
   "source": []
  },
  {
   "cell_type": "code",
   "execution_count": null,
   "id": "6c11caf1-d40c-474a-bb5a-2a1a113bdce1",
   "metadata": {},
   "outputs": [],
   "source": []
  },
  {
   "cell_type": "code",
   "execution_count": null,
   "id": "f28d4908-4e5e-42c2-a8f2-6f3d505b992f",
   "metadata": {},
   "outputs": [],
   "source": []
  },
  {
   "cell_type": "code",
   "execution_count": null,
   "id": "5c1f52fe-119e-4a73-9902-6a3181dbf80a",
   "metadata": {},
   "outputs": [],
   "source": []
  },
  {
   "cell_type": "code",
   "execution_count": null,
   "id": "8ea04f14-ac0b-490c-ba23-c24f2708f5b2",
   "metadata": {},
   "outputs": [],
   "source": []
  },
  {
   "cell_type": "code",
   "execution_count": 29,
   "id": "da944362-f072-4476-a507-7b6e0e2b0e3d",
   "metadata": {},
   "outputs": [
    {
     "data": {
      "image/png": "[encoded data removed]",
      "text/plain": [
       "<Figure size 640x480 with 1 Axes>"
      ]
     },
     "metadata": {},
     "output_type": "display_data"
    }
   ],
   "source": [
    "plt.hist(rng.poisson_random(2,10000),bins=200)\n",
    "plt.show()"
   ]
  },
  {
   "cell_type": "code",
   "execution_count": 7,
   "id": "b42c2efd-43b7-4283-824b-5b90a240ab15",
   "metadata": {
    "tags": []
   },
   "outputs": [],
   "source": [
    "import numpy as np"
   ]
  },
  {
   "cell_type": "code",
   "execution_count": 8,
   "id": "0067e334-dd17-4137-9c80-27e6b82f3504",
   "metadata": {
    "tags": []
   },
   "outputs": [
    {
     "data": {
      "text/plain": [
       "(array([1.84370e+04, 7.31340e+04, 0.00000e+00, 1.46437e+05, 1.95121e+05,\n",
       "        0.00000e+00, 1.95426e+05, 1.55888e+05, 0.00000e+00, 1.04672e+05,\n",
       "        0.00000e+00, 5.96480e+04, 2.98610e+04, 0.00000e+00, 1.32240e+04,\n",
       "        5.25700e+03, 0.00000e+00, 1.92400e+03, 6.79000e+02, 0.00000e+00,\n",
       "        2.08000e+02, 0.00000e+00, 5.20000e+01, 2.30000e+01, 0.00000e+00,\n",
       "        5.00000e+00, 2.00000e+00, 0.00000e+00, 1.00000e+00, 1.00000e+00]),\n",
       " array([ 0.        ,  0.63333333,  1.26666667,  1.9       ,  2.53333333,\n",
       "         3.16666667,  3.8       ,  4.43333333,  5.06666667,  5.7       ,\n",
       "         6.33333333,  6.96666667,  7.6       ,  8.23333333,  8.86666667,\n",
       "         9.5       , 10.13333333, 10.76666667, 11.4       , 12.03333333,\n",
       "        12.66666667, 13.3       , 13.93333333, 14.56666667, 15.2       ,\n",
       "        15.83333333, 16.46666667, 17.1       , 17.73333333, 18.36666667,\n",
       "        19.        ]),\n",
       " <BarContainer object of 30 artists>)"
      ]
     },
     "execution_count": 8,
     "metadata": {},
     "output_type": "execute_result"
    },
    {
     "data": {
      "image/png": "[encoded data removed]",
      "text/plain": [
       "<Figure size 640x480 with 1 Axes>"
      ]
     },
     "metadata": {},
     "output_type": "display_data"
    }
   ],
   "source": [
    "plt.hist(np.random.poisson(lam=4,size=1000000),bins=30)"
   ]
  },
  {
   "cell_type": "code",
   "execution_count": null,
   "id": "fc4f13ac-1c8c-4292-8186-a9bb45d9ecee",
   "metadata": {},
   "outputs": [],
   "source": []
  },
  {
   "cell_type": "code",
   "execution_count": 9,
   "id": "ca1942eb-3f50-4501-9254-06ee4ee0f7a1",
   "metadata": {
    "tags": []
   },
   "outputs": [
    {
     "name": "stdout",
     "output_type": "stream",
     "text": [
      "Random number from Poisson distribution: 4\n"
     ]
    }
   ],
   "source": [
    "import numpy as np\n",
    "\n",
    "def poisson_random(lam):\n",
    "    u = np.random.rand()\n",
    "    k = 0\n",
    "    p = np.exp(-lam)\n",
    "    F = p\n",
    "    \n",
    "    while u > F:\n",
    "        k += 1\n",
    "        p *= lam / k\n",
    "        F += p\n",
    "    \n",
    "    return k\n",
    "\n",
    "# Example usage\n",
    "lambda_value = 3.0  # Adjust as per your requirement\n",
    "random_number = poisson_random(lambda_value)\n",
    "print(\"Random number from Poisson distribution:\", random_number)"
   ]
  },
  {
   "cell_type": "code",
   "execution_count": 14,
   "id": "f04631bc-6ee0-477e-afd3-28f056780425",
   "metadata": {
    "tags": []
   },
   "outputs": [],
   "source": [
    "l=[]\n",
    "for _ in range(1000000):\n",
    "    rn=poisson_random(10)\n",
    "    l.append(rn)"
   ]
  },
  {
   "cell_type": "code",
   "execution_count": 16,
   "id": "15d659a2-af6b-4d29-a9f0-b4262f383497",
   "metadata": {
    "tags": []
   },
   "outputs": [
    {
     "data": {
      "text/plain": [
       "(array([1.21428571e-04, 0.00000000e+00, 0.00000000e+00, 1.67857143e-03,\n",
       "        0.00000000e+00, 0.00000000e+00, 0.00000000e+00, 8.38928571e-03,\n",
       "        0.00000000e+00, 0.00000000e+00, 2.75892857e-02, 0.00000000e+00,\n",
       "        0.00000000e+00, 0.00000000e+00, 6.67892857e-02, 0.00000000e+00,\n",
       "        0.00000000e+00, 1.35978571e-01, 0.00000000e+00, 0.00000000e+00,\n",
       "        0.00000000e+00, 2.25721429e-01, 0.00000000e+00, 0.00000000e+00,\n",
       "        3.21910714e-01, 0.00000000e+00, 0.00000000e+00, 0.00000000e+00,\n",
       "        4.02860714e-01, 0.00000000e+00, 0.00000000e+00, 0.00000000e+00,\n",
       "        4.46385714e-01, 0.00000000e+00, 0.00000000e+00, 4.46435714e-01,\n",
       "        0.00000000e+00, 0.00000000e+00, 0.00000000e+00, 4.05217857e-01,\n",
       "        0.00000000e+00, 0.00000000e+00, 3.39292857e-01, 0.00000000e+00,\n",
       "        0.00000000e+00, 0.00000000e+00, 2.59185714e-01, 0.00000000e+00,\n",
       "        0.00000000e+00, 1.84682143e-01, 0.00000000e+00, 0.00000000e+00,\n",
       "        0.00000000e+00, 1.24128571e-01, 0.00000000e+00, 0.00000000e+00,\n",
       "        0.00000000e+00, 7.81392857e-02, 0.00000000e+00, 0.00000000e+00,\n",
       "        4.56428571e-02, 0.00000000e+00, 0.00000000e+00, 0.00000000e+00,\n",
       "        2.54142857e-02, 0.00000000e+00, 0.00000000e+00, 1.34142857e-02,\n",
       "        0.00000000e+00, 0.00000000e+00, 0.00000000e+00, 6.84285714e-03,\n",
       "        0.00000000e+00, 0.00000000e+00, 3.14285714e-03, 0.00000000e+00,\n",
       "        0.00000000e+00, 0.00000000e+00, 1.37857143e-03, 0.00000000e+00,\n",
       "        0.00000000e+00, 0.00000000e+00, 5.89285714e-04, 0.00000000e+00,\n",
       "        0.00000000e+00, 3.21428571e-04, 0.00000000e+00, 0.00000000e+00,\n",
       "        0.00000000e+00, 1.03571429e-04, 0.00000000e+00, 0.00000000e+00,\n",
       "        5.71428571e-05, 0.00000000e+00, 0.00000000e+00, 0.00000000e+00,\n",
       "        7.14285714e-06, 0.00000000e+00, 0.00000000e+00, 7.14285714e-06]),\n",
       " array([ 0.  ,  0.28,  0.56,  0.84,  1.12,  1.4 ,  1.68,  1.96,  2.24,\n",
       "         2.52,  2.8 ,  3.08,  3.36,  3.64,  3.92,  4.2 ,  4.48,  4.76,\n",
       "         5.04,  5.32,  5.6 ,  5.88,  6.16,  6.44,  6.72,  7.  ,  7.28,\n",
       "         7.56,  7.84,  8.12,  8.4 ,  8.68,  8.96,  9.24,  9.52,  9.8 ,\n",
       "        10.08, 10.36, 10.64, 10.92, 11.2 , 11.48, 11.76, 12.04, 12.32,\n",
       "        12.6 , 12.88, 13.16, 13.44, 13.72, 14.  , 14.28, 14.56, 14.84,\n",
       "        15.12, 15.4 , 15.68, 15.96, 16.24, 16.52, 16.8 , 17.08, 17.36,\n",
       "        17.64, 17.92, 18.2 , 18.48, 18.76, 19.04, 19.32, 19.6 , 19.88,\n",
       "        20.16, 20.44, 20.72, 21.  , 21.28, 21.56, 21.84, 22.12, 22.4 ,\n",
       "        22.68, 22.96, 23.24, 23.52, 23.8 , 24.08, 24.36, 24.64, 24.92,\n",
       "        25.2 , 25.48, 25.76, 26.04, 26.32, 26.6 , 26.88, 27.16, 27.44,\n",
       "        27.72, 28.  ]),\n",
       " <BarContainer object of 100 artists>)"
      ]
     },
     "execution_count": 16,
     "metadata": {},
     "output_type": "execute_result"
    },
    {
     "data": {
      "image/png": "[encoded data removed]",
      "text/plain": [
       "<Figure size 640x480 with 1 Axes>"
      ]
     },
     "metadata": {},
     "output_type": "display_data"
    }
   ],
   "source": [
    "plt.hist(l,bins=100,density=True)"
   ]
  },
  {
   "cell_type": "code",
   "execution_count": null,
   "id": "1d74cc44-f900-4c50-b6fe-50067273604f",
   "metadata": {},
   "outputs": [],
   "source": []
  }
 ],
 "metadata": {
  "kernelspec": {
   "display_name": "Python 3 (ipykernel)",
   "language": "python",
   "name": "python3"
  },
  "language_info": {
   "codemirror_mode": {
    "name": "ipython",
    "version": 3
   },
   "file_extension": ".py",
   "mimetype": "text/x-python",
   "name": "python",
   "nbconvert_exporter": "python",
   "pygments_lexer": "ipython3",
   "version": "3.9.13"
  }
 },
 "nbformat": 4,
 "nbformat_minor": 5
}
