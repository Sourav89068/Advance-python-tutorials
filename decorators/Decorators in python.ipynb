{
 "cells": [
  {
   "cell_type": "markdown",
   "id": "advanced-oracle",
   "metadata": {},
   "source": [
    "<h1>Author: Sourav Karmakar</h1>"
   ]
  },
  {
   "cell_type": "markdown",
   "id": "resistant-chuck",
   "metadata": {},
   "source": [
    "<h4>Email id- sourakarmakar@gmail.com</h4>"
   ]
  },
  {
   "cell_type": "markdown",
   "id": "burning-afghanistan",
   "metadata": {},
   "source": [
    "<h4> github profile: https://github.com/Sourav89068 </h4>"
   ]
  },
  {
   "cell_type": "markdown",
   "id": "conventional-illness",
   "metadata": {},
   "source": [
    "![title](pics/img1.jpg)"
   ]
  },
  {
   "cell_type": "markdown",
   "id": "qualified-cuisine",
   "metadata": {},
   "source": [
    "![title](pics/img2.jpg)"
   ]
  },
  {
   "cell_type": "markdown",
   "id": "limited-eclipse",
   "metadata": {},
   "source": [
    "# **Prerequisites before jumping into the decorators.**"
   ]
  },
  {
   "cell_type": "markdown",
   "id": "overhead-focus",
   "metadata": {},
   "source": [
    "## **Python functions as first class objects**"
   ]
  },
  {
   "cell_type": "markdown",
   "id": "positive-transport",
   "metadata": {},
   "source": [
    "> **_1.Storing functions as variable_**"
   ]
  },
  {
   "cell_type": "code",
   "execution_count": 1,
   "id": "exempt-accuracy",
   "metadata": {},
   "outputs": [],
   "source": [
    "def function_add(a,b):\n",
    "    return a+b"
   ]
  },
  {
   "cell_type": "code",
   "execution_count": 2,
   "id": "weird-reducing",
   "metadata": {},
   "outputs": [],
   "source": [
    "fun_1=function_add"
   ]
  },
  {
   "cell_type": "code",
   "execution_count": 3,
   "id": "global-corps",
   "metadata": {},
   "outputs": [
    {
     "data": {
      "text/plain": [
       "4"
      ]
     },
     "execution_count": 3,
     "metadata": {},
     "output_type": "execute_result"
    }
   ],
   "source": [
    "fun_1(1,3)"
   ]
  },
  {
   "cell_type": "markdown",
   "id": "incident-acrylic",
   "metadata": {},
   "source": [
    "> **_2.Passing the function as parameter to another function_**"
   ]
  },
  {
   "cell_type": "code",
   "execution_count": 4,
   "id": "taken-cedar",
   "metadata": {},
   "outputs": [],
   "source": [
    "def function_add(a,b):\n",
    "    return a+b"
   ]
  },
  {
   "cell_type": "code",
   "execution_count": 5,
   "id": "cosmetic-parish",
   "metadata": {},
   "outputs": [],
   "source": [
    "def n_th_fibonacci(n,fun_add):\n",
    "    l=[0,1]\n",
    "    if n<=0:\n",
    "        return \"Pass a natural number\"\n",
    "    if n==1:\n",
    "        return l[0]\n",
    "    a=fun_add\n",
    "    for i in range(n):\n",
    "        l.append(a(l[-1],l[-2]))\n",
    "    return l[-2]"
   ]
  },
  {
   "cell_type": "code",
   "execution_count": 6,
   "id": "japanese-newman",
   "metadata": {},
   "outputs": [
    {
     "data": {
      "text/plain": [
       "'Pass a natural number'"
      ]
     },
     "execution_count": 6,
     "metadata": {},
     "output_type": "execute_result"
    }
   ],
   "source": [
    "n_th_fibonacci(0,function_add)"
   ]
  },
  {
   "cell_type": "code",
   "execution_count": 7,
   "id": "industrial-antique",
   "metadata": {},
   "outputs": [
    {
     "data": {
      "text/plain": [
       "13"
      ]
     },
     "execution_count": 7,
     "metadata": {},
     "output_type": "execute_result"
    }
   ],
   "source": [
    "n_th_fibonacci(7,function_add)"
   ]
  },
  {
   "cell_type": "code",
   "execution_count": 8,
   "id": "every-advertising",
   "metadata": {},
   "outputs": [
    {
     "data": {
      "text/plain": [
       "0"
      ]
     },
     "execution_count": 8,
     "metadata": {},
     "output_type": "execute_result"
    }
   ],
   "source": [
    "n_th_fibonacci(1,function_add)"
   ]
  },
  {
   "cell_type": "code",
   "execution_count": 9,
   "id": "oriented-access",
   "metadata": {},
   "outputs": [
    {
     "data": {
      "text/plain": [
       "55"
      ]
     },
     "execution_count": 9,
     "metadata": {},
     "output_type": "execute_result"
    }
   ],
   "source": [
    "n_th_fibonacci(10,function_add)"
   ]
  },
  {
   "cell_type": "markdown",
   "id": "constant-exercise",
   "metadata": {},
   "source": [
    "> **_3.Functions return another function_**"
   ]
  },
  {
   "cell_type": "markdown",
   "id": "signal-renewal",
   "metadata": {},
   "source": [
    "> > **Fisrt kind**"
   ]
  },
  {
   "cell_type": "code",
   "execution_count": 10,
   "id": "former-lunch",
   "metadata": {},
   "outputs": [],
   "source": [
    "def function_add(a,b):\n",
    "    return a+b"
   ]
  },
  {
   "cell_type": "code",
   "execution_count": 11,
   "id": "heard-enforcement",
   "metadata": {},
   "outputs": [],
   "source": [
    "def function_1(a,b,x,y):\n",
    "    return function_add(a,b)-x+2*y"
   ]
  },
  {
   "cell_type": "code",
   "execution_count": 12,
   "id": "unlikely-oasis",
   "metadata": {},
   "outputs": [
    {
     "data": {
      "text/plain": [
       "9"
      ]
     },
     "execution_count": 12,
     "metadata": {},
     "output_type": "execute_result"
    }
   ],
   "source": [
    "function_1(3,4,2,2)"
   ]
  },
  {
   "cell_type": "code",
   "execution_count": 13,
   "id": "written-sword",
   "metadata": {},
   "outputs": [
    {
     "data": {
      "text/plain": [
       "15"
      ]
     },
     "execution_count": 13,
     "metadata": {},
     "output_type": "execute_result"
    }
   ],
   "source": [
    "function_1(4,2,1,5)"
   ]
  },
  {
   "cell_type": "markdown",
   "id": "above-strand",
   "metadata": {},
   "source": [
    "> > **Second kind**"
   ]
  },
  {
   "cell_type": "code",
   "execution_count": 14,
   "id": "incoming-steering",
   "metadata": {},
   "outputs": [],
   "source": [
    "def function_2(x,y):\n",
    "    def func_add(a,b):\n",
    "        return a+b-x+2*y\n",
    "    return func_add"
   ]
  },
  {
   "cell_type": "code",
   "execution_count": 15,
   "id": "fixed-research",
   "metadata": {},
   "outputs": [],
   "source": [
    "f_2=function_2(2,2)"
   ]
  },
  {
   "cell_type": "code",
   "execution_count": 16,
   "id": "funny-settlement",
   "metadata": {},
   "outputs": [
    {
     "data": {
      "text/plain": [
       "9"
      ]
     },
     "execution_count": 16,
     "metadata": {},
     "output_type": "execute_result"
    }
   ],
   "source": [
    "f_2(3,4)"
   ]
  },
  {
   "cell_type": "code",
   "execution_count": 17,
   "id": "residential-penny",
   "metadata": {},
   "outputs": [],
   "source": [
    "f_3=function_2(1,5)"
   ]
  },
  {
   "cell_type": "code",
   "execution_count": 18,
   "id": "generous-continuity",
   "metadata": {},
   "outputs": [
    {
     "data": {
      "text/plain": [
       "15"
      ]
     },
     "execution_count": 18,
     "metadata": {},
     "output_type": "execute_result"
    }
   ],
   "source": [
    "f_3(4,2)"
   ]
  },
  {
   "cell_type": "code",
   "execution_count": 19,
   "id": "secondary-support",
   "metadata": {},
   "outputs": [
    {
     "data": {
      "text/plain": [
       "<function __main__.function_2.<locals>.func_add(a, b)>"
      ]
     },
     "execution_count": 19,
     "metadata": {},
     "output_type": "execute_result"
    }
   ],
   "source": [
    "f_2"
   ]
  },
  {
   "cell_type": "markdown",
   "id": "scheduled-agreement",
   "metadata": {},
   "source": [
    "> **_4.We can store them in data structures(lists,dictionaries etc.)_**"
   ]
  },
  {
   "cell_type": "markdown",
   "id": "sufficient-bookmark",
   "metadata": {},
   "source": [
    "> > _**storing in a list**_"
   ]
  },
  {
   "cell_type": "code",
   "execution_count": 20,
   "id": "described-cycle",
   "metadata": {},
   "outputs": [],
   "source": [
    "def add(a,b): return a+b\n",
    "def subtract(a,b): return a-b\n",
    "def multiply(a,b): return a*b\n",
    "def division(a,b): return a/b"
   ]
  },
  {
   "cell_type": "code",
   "execution_count": 21,
   "id": "catholic-lover",
   "metadata": {},
   "outputs": [],
   "source": [
    "l=[add,subtract,multiply,division]"
   ]
  },
  {
   "cell_type": "code",
   "execution_count": 22,
   "id": "lightweight-denmark",
   "metadata": {},
   "outputs": [
    {
     "name": "stdout",
     "output_type": "stream",
     "text": [
      "10\n",
      "6\n",
      "16\n",
      "4.0\n"
     ]
    }
   ],
   "source": [
    "for i in l:\n",
    "    print(i(8,2))"
   ]
  },
  {
   "cell_type": "markdown",
   "id": "opened-healthcare",
   "metadata": {},
   "source": [
    "> > **_storing in a dictionary_**"
   ]
  },
  {
   "cell_type": "code",
   "execution_count": 23,
   "id": "hungry-individual",
   "metadata": {},
   "outputs": [],
   "source": [
    "dic={add:[8,2],subtract:[8,2],multiply:[8,2],division:[8,2]}"
   ]
  },
  {
   "cell_type": "code",
   "execution_count": 24,
   "id": "quarterly-nickname",
   "metadata": {},
   "outputs": [
    {
     "data": {
      "text/plain": [
       "10"
      ]
     },
     "execution_count": 24,
     "metadata": {},
     "output_type": "execute_result"
    }
   ],
   "source": [
    "list(dic.keys())[0](*dic[list(dic.keys())[0]])"
   ]
  },
  {
   "cell_type": "code",
   "execution_count": 25,
   "id": "inner-silence",
   "metadata": {},
   "outputs": [
    {
     "name": "stdout",
     "output_type": "stream",
     "text": [
      "10\n",
      "6\n",
      "16\n",
      "4.0\n"
     ]
    }
   ],
   "source": [
    "for i in range(len(dic)):\n",
    "    print(list(dic.keys())[i](*dic[list(dic.keys())[i]]))"
   ]
  },
  {
   "cell_type": "markdown",
   "id": "suburban-warning",
   "metadata": {},
   "source": [
    "# **Decorators**"
   ]
  },
  {
   "cell_type": "markdown",
   "id": "express-cover",
   "metadata": {},
   "source": [
    "## **A brief about the decorators:**\n",
    "- It is generally used as a wrapper to another function.\n",
    "- It takes the callable function to modify or extend the function and then returns a callable function with the extended form\n",
    "- Uses the concept that function is a first class object in python"
   ]
  },
  {
   "cell_type": "markdown",
   "id": "weekly-edward",
   "metadata": {},
   "source": [
    "## **Let's define the decorator**"
   ]
  },
  {
   "cell_type": "markdown",
   "id": "passive-cartridge",
   "metadata": {},
   "source": [
    "**We will use temperature converters as our examples**"
   ]
  },
  {
   "cell_type": "code",
   "execution_count": 26,
   "id": "popular-mechanics",
   "metadata": {},
   "outputs": [],
   "source": [
    "def decorator1(function):\n",
    "    def CtoF_converter(argument):\n",
    "        C=function(argument)\n",
    "        F=9/5*C+32\n",
    "        return F\n",
    "    return CtoF_converter"
   ]
  },
  {
   "cell_type": "markdown",
   "id": "large-garage",
   "metadata": {},
   "source": [
    "**Wrapping a Kelvin to Celcius converter using decorator to make it Kelvin to Fahrenheit converter**"
   ]
  },
  {
   "cell_type": "code",
   "execution_count": 27,
   "id": "previous-turkish",
   "metadata": {},
   "outputs": [],
   "source": [
    "@decorator1\n",
    "def KtoF_converter(argument): # Name seems like it is Kelvin to Fahrenhite converter\n",
    "    C=argument-273    # But this conversion seems like Kelvin to Celcius converter\n",
    "    return C"
   ]
  },
  {
   "cell_type": "markdown",
   "id": "ordinary-marble",
   "metadata": {},
   "source": [
    "**Now see the output of Kelvin to Fahrenheit converter using decorator**"
   ]
  },
  {
   "cell_type": "code",
   "execution_count": 28,
   "id": "intended-fraction",
   "metadata": {},
   "outputs": [
    {
     "data": {
      "text/plain": [
       "-40.0"
      ]
     },
     "execution_count": 28,
     "metadata": {},
     "output_type": "execute_result"
    }
   ],
   "source": [
    "KtoF_converter(233.0) # It has actually done a Kelvin to Fahrenhite conversion"
   ]
  },
  {
   "cell_type": "markdown",
   "id": "muslim-craft",
   "metadata": {},
   "source": [
    "**Now see the output of the Kelvin to Celcius converter using decorator**"
   ]
  },
  {
   "cell_type": "code",
   "execution_count": 29,
   "id": "formed-exhibit",
   "metadata": {},
   "outputs": [],
   "source": [
    "def K_TO_C_CONVERTER(argument):  #Name seems like it is Kelvin to Celcius converter\n",
    "    C=argument-273   #This is Kelvin to Celcius conversion formula\n",
    "    return C"
   ]
  },
  {
   "cell_type": "code",
   "execution_count": 30,
   "id": "first-stereo",
   "metadata": {},
   "outputs": [
    {
     "data": {
      "text/plain": [
       "-40.0"
      ]
     },
     "execution_count": 30,
     "metadata": {},
     "output_type": "execute_result"
    }
   ],
   "source": [
    "K_TO_C_CONVERTER(233.0)"
   ]
  },
  {
   "cell_type": "markdown",
   "id": "mature-emerald",
   "metadata": {},
   "source": [
    "**I am claiming that KtoF_converter uses the form \"KtoF_converter=decorator1(KtoF_converter) \"when I am using decorator**<br>\n",
    "_Let's see this_"
   ]
  },
  {
   "cell_type": "code",
   "execution_count": 31,
   "id": "worst-greenhouse",
   "metadata": {},
   "outputs": [],
   "source": [
    "K_TO_C_CONVERTER=decorator1(K_TO_C_CONVERTER) #Name seems like Kelvin to Celcius"
   ]
  },
  {
   "cell_type": "code",
   "execution_count": 32,
   "id": "velvet-consumer",
   "metadata": {},
   "outputs": [
    {
     "data": {
      "text/plain": [
       "-40.0"
      ]
     },
     "execution_count": 32,
     "metadata": {},
     "output_type": "execute_result"
    }
   ],
   "source": [
    "K_TO_C_CONVERTER(233.0)  # But doing the work of Kelvin to Fahrenheit conversion"
   ]
  },
  {
   "cell_type": "markdown",
   "id": "alternate-insurance",
   "metadata": {},
   "source": [
    "**Wondering that is the decorator doing different!!! It doesn't give different result in either of the cases when I am using the function with the decorator or without the decorator.**"
   ]
  },
  {
   "cell_type": "markdown",
   "id": "blind-utilization",
   "metadata": {},
   "source": [
    "Don't get confused it is just a special case of the both temperature scale. It was just a fun fact that both the temperature scales **Celcius and Fahrenheit gives the same reading at -40.0**"
   ]
  },
  {
   "cell_type": "markdown",
   "id": "vocational-serum",
   "metadata": {},
   "source": [
    "_**We will try different cases now to see the difference**_"
   ]
  },
  {
   "cell_type": "code",
   "execution_count": 33,
   "id": "ancient-muslim",
   "metadata": {},
   "outputs": [
    {
     "data": {
      "text/plain": [
       "32.0"
      ]
     },
     "execution_count": 33,
     "metadata": {},
     "output_type": "execute_result"
    }
   ],
   "source": [
    "KtoF_converter(273.0)"
   ]
  },
  {
   "cell_type": "markdown",
   "id": "racial-independence",
   "metadata": {},
   "source": [
    "**That's correct**"
   ]
  },
  {
   "cell_type": "markdown",
   "id": "considerable-shower",
   "metadata": {},
   "source": [
    "**Now check the only K_TO_C_CONVERTER FUNCTION**"
   ]
  },
  {
   "cell_type": "code",
   "execution_count": 34,
   "id": "medium-shift",
   "metadata": {},
   "outputs": [
    {
     "data": {
      "text/plain": [
       "32.0"
      ]
     },
     "execution_count": 34,
     "metadata": {},
     "output_type": "execute_result"
    }
   ],
   "source": [
    "K_TO_C_CONVERTER(273.0)"
   ]
  },
  {
   "cell_type": "code",
   "execution_count": 35,
   "id": "laden-membership",
   "metadata": {},
   "outputs": [
    {
     "data": {
      "text/plain": [
       "194.0"
      ]
     },
     "execution_count": 35,
     "metadata": {},
     "output_type": "execute_result"
    }
   ],
   "source": [
    "KtoF_converter(363.0)"
   ]
  },
  {
   "cell_type": "code",
   "execution_count": 36,
   "id": "liberal-lobby",
   "metadata": {},
   "outputs": [
    {
     "data": {
      "text/plain": [
       "194.0"
      ]
     },
     "execution_count": 36,
     "metadata": {},
     "output_type": "execute_result"
    }
   ],
   "source": [
    "K_TO_C_CONVERTER(363.0)"
   ]
  },
  {
   "cell_type": "markdown",
   "id": "adopted-worse",
   "metadata": {},
   "source": [
    "**Something is wrong!**\n",
    "**(But fortunately my claim is proved.)**\n",
    "_Are you confused what just happened?_"
   ]
  },
  {
   "cell_type": "markdown",
   "id": "injured-major",
   "metadata": {},
   "source": [
    "**See the cell number 31 and remember that function is a first class object**\n",
    "- **So what's the catch?** <br> \n",
    "> _Answer: Executing the cell no. 31 makes **K_TO_C_CONVERTER object of the decorator1 function which takes K_TO_C_CONVERTER function as an argument.** So cell no. 33 and cell no. 34 are executing the same thing._"
   ]
  },
  {
   "cell_type": "markdown",
   "id": "objective-killing",
   "metadata": {},
   "source": [
    "_**Hence my claim is proved.**_"
   ]
  },
  {
   "cell_type": "markdown",
   "id": "continued-satin",
   "metadata": {},
   "source": [
    "_Now let's define the same function again to_ **overwrite** _the object of decorator1 function_"
   ]
  },
  {
   "cell_type": "code",
   "execution_count": 37,
   "id": "opponent-rally",
   "metadata": {},
   "outputs": [],
   "source": [
    "def K_TO_C_CONVERTER(argument):\n",
    "    C=argument-273\n",
    "    return C"
   ]
  },
  {
   "cell_type": "markdown",
   "id": "forbidden-kitty",
   "metadata": {},
   "source": [
    "**Done!!!** _Now let's try to see the difference once more_"
   ]
  },
  {
   "cell_type": "code",
   "execution_count": 38,
   "id": "random-arizona",
   "metadata": {},
   "outputs": [
    {
     "data": {
      "text/plain": [
       "32.0"
      ]
     },
     "execution_count": 38,
     "metadata": {},
     "output_type": "execute_result"
    }
   ],
   "source": [
    "KtoF_converter(273.0)"
   ]
  },
  {
   "cell_type": "code",
   "execution_count": 39,
   "id": "popular-jamaica",
   "metadata": {},
   "outputs": [
    {
     "data": {
      "text/plain": [
       "0.0"
      ]
     },
     "execution_count": 39,
     "metadata": {},
     "output_type": "execute_result"
    }
   ],
   "source": [
    "K_TO_C_CONVERTER(273.0)"
   ]
  },
  {
   "cell_type": "code",
   "execution_count": 40,
   "id": "buried-laugh",
   "metadata": {},
   "outputs": [
    {
     "data": {
      "text/plain": [
       "212.0"
      ]
     },
     "execution_count": 40,
     "metadata": {},
     "output_type": "execute_result"
    }
   ],
   "source": [
    "KtoF_converter(373)"
   ]
  },
  {
   "cell_type": "code",
   "execution_count": 41,
   "id": "normal-blowing",
   "metadata": {},
   "outputs": [
    {
     "data": {
      "text/plain": [
       "100"
      ]
     },
     "execution_count": 41,
     "metadata": {},
     "output_type": "execute_result"
    }
   ],
   "source": [
    "K_TO_C_CONVERTER(373)"
   ]
  },
  {
   "cell_type": "markdown",
   "id": "original-cambodia",
   "metadata": {},
   "source": [
    "## Advantages of using decorators\n",
    "- Decorators are declared outside the body of the function and the moment a function is defined with the decorator, it is being wrapped by the decorator. (Eg, Let's say we have 500 lines of code and after that we want to use the earlier function which we would use as a decorator in our case)"
   ]
  },
  {
   "cell_type": "markdown",
   "id": "actual-armstrong",
   "metadata": {},
   "source": [
    "# Advance uses of decorators"
   ]
  },
  {
   "cell_type": "markdown",
   "id": "domestic-luther",
   "metadata": {},
   "source": [
    "> **_Memoization using Decorators_**"
   ]
  },
  {
   "cell_type": "markdown",
   "id": "acute-supplier",
   "metadata": {},
   "source": [
    "> _First things first, I'ma say all the words inside my head..._\n",
    "\n",
    "Oops! I think I let myself be carried away by the wonderful notion of this dynamic programming's approach."
   ]
  },
  {
   "cell_type": "markdown",
   "id": "sustained-product",
   "metadata": {},
   "source": [
    "> So first things first for those who don't know what _**memoization**_ is. If you know you can skip the explanation. "
   ]
  },
  {
   "cell_type": "markdown",
   "id": "controversial-design",
   "metadata": {},
   "source": [
    "> **Memoization** is one of the techiniques which can save you from getting time limit exceeded error in competitive programming questions which requires recursive algorithms. Before jumping into the memoization we need to know why recursive approach is slow. Let's say we have to calculate factorial of 5. We go for a recursive approach. So it will be calculated like this 5*factorial(4)*factorial(3)*factorial(2)*factorial(1). But if you notice each of this factorials will be calculated again and again for the same problem. What am I saying is just that we have already calculated factorial(1). But if we go to factorial(2) we will again calculate factorial(1). Similarly we have already calculated factorial(2) and factorial(1), but for the calculation of factorial 3 again we will calculate these two factorials and so on. It will be better if we can store the values what we have calculated. So we can directly access the value from there rather than calculating the entire recursion again and again."
   ]
  },
  {
   "cell_type": "markdown",
   "id": "floppy-vermont",
   "metadata": {},
   "source": [
    "Below is the implementation of the memoization idea."
   ]
  },
  {
   "cell_type": "code",
   "execution_count": 42,
   "id": "bulgarian-survivor",
   "metadata": {},
   "outputs": [],
   "source": [
    "class Memoize:\n",
    "    def __init__(self, function):\n",
    "        self.function = function\n",
    "        self.memory = {}  #declaring a memory dictionary to store the output of the recursive calls\n",
    "    \n",
    "    def __call__(self, *args): # this will enable to make the class behave like a function\n",
    "        if args in self.memory:\n",
    "            return self.memory[args]  #checking if the recursion subproblem has already been visited or not\n",
    "        else:\n",
    "            value=self.function(*args)\n",
    "            self.memory[args]=value  # if it is not visited then that value is stored corresponding to it's depth\n",
    "            return value"
   ]
  },
  {
   "cell_type": "code",
   "execution_count": 43,
   "id": "breeding-generation",
   "metadata": {},
   "outputs": [],
   "source": [
    "def factorial(x):\n",
    "    if x<=1:\n",
    "        return 1\n",
    "    else:\n",
    "        return x*factorial(x-1)"
   ]
  },
  {
   "cell_type": "markdown",
   "id": "patient-yugoslavia",
   "metadata": {},
   "source": [
    "## Now see the difference in time "
   ]
  },
  {
   "cell_type": "markdown",
   "id": "public-document",
   "metadata": {},
   "source": [
    "### Recursive approach"
   ]
  },
  {
   "cell_type": "code",
   "execution_count": 44,
   "id": "other-johnson",
   "metadata": {},
   "outputs": [
    {
     "name": "stdout",
     "output_type": "stream",
     "text": [
      "Time required to calculate factorial 50 is\n",
      "4.8 µs ± 772 ns per loop (mean ± std. dev. of 7 runs, 100000 loops each)\n",
      "===========================================================================\n",
      "Time required to calculate factorial 100 is\n",
      "9.43 µs ± 251 ns per loop (mean ± std. dev. of 7 runs, 100000 loops each)\n",
      "                                                                           \n",
      "***************************************************************************\n",
      "<function factorial at 0x7fe0d8ae09d0>\n",
      "***************************************************************************\n"
     ]
    }
   ],
   "source": [
    "print(\"Time required to calculate factorial 50 is\")\n",
    "%timeit factorial(50)\n",
    "print(\"=\"*75)\n",
    "print(\"Time required to calculate factorial 100 is\")\n",
    "%timeit factorial(100)\n",
    "print(\" \"*75)\n",
    "print(\"*\"*75)\n",
    "print(factorial) # The print statement will say that it is function factorial\n",
    "print(\"*\"*75)"
   ]
  },
  {
   "cell_type": "code",
   "execution_count": 45,
   "id": "advisory-drive",
   "metadata": {},
   "outputs": [],
   "source": [
    "@Memoize # decorating the factorial function\n",
    "def factorial(x):\n",
    "    if x<=1:\n",
    "        return 1\n",
    "    else:\n",
    "        return x*factorial(x-1)"
   ]
  },
  {
   "cell_type": "markdown",
   "id": "rental-glass",
   "metadata": {},
   "source": [
    "### After using memoization"
   ]
  },
  {
   "cell_type": "code",
   "execution_count": 46,
   "id": "right-banana",
   "metadata": {},
   "outputs": [
    {
     "name": "stdout",
     "output_type": "stream",
     "text": [
      "Time required to calculate factorial 50 is\n",
      "170 ns ± 1.15 ns per loop (mean ± std. dev. of 7 runs, 10000000 loops each)\n",
      "===========================================================================\n",
      "Time required to calculate factorial 100 is\n",
      "191 ns ± 10.6 ns per loop (mean ± std. dev. of 7 runs, 10000000 loops each)\n",
      "                                                                           \n",
      "***************************************************************************\n",
      "<__main__.Memoize object at 0x7fe0d8af9550>\n",
      "***************************************************************************\n"
     ]
    }
   ],
   "source": [
    "print(\"Time required to calculate factorial 50 is\")\n",
    "%timeit factorial(50)\n",
    "print(\"=\"*75)\n",
    "print(\"Time required to calculate factorial 100 is\")\n",
    "%timeit factorial(100)\n",
    "print(\" \"*75)\n",
    "print(\"*\"*75)\n",
    "print(factorial) # The print statement will say that it is an Memoize object\n",
    "print(\"*\"*75)"
   ]
  },
  {
   "cell_type": "code",
   "execution_count": 47,
   "id": "entertaining-giant",
   "metadata": {},
   "outputs": [],
   "source": [
    "def fibonacci(x):\n",
    "    if x<=1:\n",
    "        return 1\n",
    "    else:\n",
    "        return fibonacci(x-1)+fibonacci(x-2)"
   ]
  },
  {
   "cell_type": "code",
   "execution_count": 48,
   "id": "interpreted-convenience",
   "metadata": {},
   "outputs": [
    {
     "name": "stdout",
     "output_type": "stream",
     "text": [
      "Time required to calculate fibonacci number at index 10 is\n",
      "10.5 µs ± 1.05 µs per loop (mean ± std. dev. of 7 runs, 100000 loops each)\n",
      "===========================================================================\n",
      "Time required to calculate fibonacci number at index 30 is\n",
      "179 ms ± 28.3 ms per loop (mean ± std. dev. of 7 runs, 10 loops each)\n",
      "                                                                           \n",
      "***************************************************************************\n",
      "<function fibonacci at 0x7fe0d8aed670>\n",
      "***************************************************************************\n"
     ]
    }
   ],
   "source": [
    "print(\"Time required to calculate fibonacci number at index 10 is\")\n",
    "%timeit fibonacci(10)\n",
    "print(\"=\"*75)\n",
    "print(\"Time required to calculate fibonacci number at index 30 is\")\n",
    "%timeit fibonacci(30) \n",
    "print(\" \"*75)\n",
    "print(\"*\"*75)\n",
    "print(fibonacci) # The print statement will say that it is function fibonacci\n",
    "print(\"*\"*75)"
   ]
  },
  {
   "cell_type": "code",
   "execution_count": 49,
   "id": "existing-purse",
   "metadata": {},
   "outputs": [],
   "source": [
    "@Memoize\n",
    "def fibonacci(x):\n",
    "    if x<=1:\n",
    "        return 1\n",
    "    else:\n",
    "        return fibonacci(x-1)+fibonacci(x-2)"
   ]
  },
  {
   "cell_type": "code",
   "execution_count": 50,
   "id": "chinese-flexibility",
   "metadata": {},
   "outputs": [
    {
     "name": "stdout",
     "output_type": "stream",
     "text": [
      "Time required to calculate fibonacci number at index 10 is\n",
      "189 ns ± 6.66 ns per loop (mean ± std. dev. of 7 runs, 10000000 loops each)\n",
      "===========================================================================\n",
      "Time required to calculate fibonacci number at index 30 is\n",
      "190 ns ± 5.98 ns per loop (mean ± std. dev. of 7 runs, 10000000 loops each)\n",
      "                                                                           \n",
      "***************************************************************************\n",
      "<__main__.Memoize object at 0x7fe0d8afbee0>\n",
      "***************************************************************************\n"
     ]
    }
   ],
   "source": [
    "print(\"Time required to calculate fibonacci number at index 10 is\")\n",
    "%timeit fibonacci(10)\n",
    "print(\"=\"*75)\n",
    "print(\"Time required to calculate fibonacci number at index 30 is\")\n",
    "%timeit fibonacci(30) \n",
    "print(\" \"*75)\n",
    "print(\"*\"*75)\n",
    "print(fibonacci) # The print statement will say that it is an Memoize object\n",
    "print(\"*\"*75)"
   ]
  }
 ],
 "metadata": {
  "kernelspec": {
   "display_name": "Python 3",
   "language": "python",
   "name": "python3"
  },
  "language_info": {
   "codemirror_mode": {
    "name": "ipython",
    "version": 3
   },
   "file_extension": ".py",
   "mimetype": "text/x-python",
   "name": "python",
   "nbconvert_exporter": "python",
   "pygments_lexer": "ipython3",
   "version": "3.8.5"
  }
 },
 "nbformat": 4,
 "nbformat_minor": 5
}
